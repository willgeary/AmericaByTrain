{
 "cells": [
  {
   "cell_type": "code",
   "execution_count": 1,
   "metadata": {
    "collapsed": true
   },
   "outputs": [],
   "source": [
    "import pandas as pd\n",
    "import numpy as np\n",
    "import datetime as dt"
   ]
  },
  {
   "cell_type": "markdown",
   "metadata": {},
   "source": [
    "# Load GTFS Data"
   ]
  },
  {
   "cell_type": "code",
   "execution_count": 2,
   "metadata": {
    "collapsed": true
   },
   "outputs": [],
   "source": [
    "agency = pd.read_csv('GTFS/amtrak/agency.txt')\n",
    "calendar = pd.read_csv('GTFS/amtrak/calendar.txt')\n",
    "routes = pd.read_csv('GTFS/amtrak/routes.txt')\n",
    "stop_times = pd.read_csv('GTFS/amtrak/stop_times.txt')\n",
    "stops = pd.read_csv('GTFS/amtrak/stops.txt')\n",
    "transfers = pd.read_csv('GTFS/amtrak/transfers.txt')\n",
    "trips = pd.read_csv('GTFS/amtrak/trips.txt')"
   ]
  },
  {
   "cell_type": "markdown",
   "metadata": {},
   "source": [
    "# Merge Tables"
   ]
  },
  {
   "cell_type": "markdown",
   "metadata": {},
   "source": [
    "Match service_id to trip_id"
   ]
  },
  {
   "cell_type": "code",
   "execution_count": 3,
   "metadata": {
    "collapsed": false
   },
   "outputs": [
    {
     "data": {
      "text/html": [
       "<div>\n",
       "<table border=\"1\" class=\"dataframe\">\n",
       "  <thead>\n",
       "    <tr style=\"text-align: right;\">\n",
       "      <th></th>\n",
       "      <th>service_id</th>\n",
       "      <th>trip_id</th>\n",
       "    </tr>\n",
       "  </thead>\n",
       "  <tbody>\n",
       "    <tr>\n",
       "      <th>0</th>\n",
       "      <td>409714</td>\n",
       "      <td>2100409714</td>\n",
       "    </tr>\n",
       "    <tr>\n",
       "      <th>1</th>\n",
       "      <td>409716</td>\n",
       "      <td>2100409716</td>\n",
       "    </tr>\n",
       "    <tr>\n",
       "      <th>2</th>\n",
       "      <td>409718</td>\n",
       "      <td>2100409718</td>\n",
       "    </tr>\n",
       "    <tr>\n",
       "      <th>3</th>\n",
       "      <td>433850</td>\n",
       "      <td>2103433850</td>\n",
       "    </tr>\n",
       "    <tr>\n",
       "      <th>4</th>\n",
       "      <td>433851</td>\n",
       "      <td>2103433851</td>\n",
       "    </tr>\n",
       "  </tbody>\n",
       "</table>\n",
       "</div>"
      ],
      "text/plain": [
       "   service_id     trip_id\n",
       "0      409714  2100409714\n",
       "1      409716  2100409716\n",
       "2      409718  2100409718\n",
       "3      433850  2103433850\n",
       "4      433851  2103433851"
      ]
     },
     "execution_count": 3,
     "metadata": {},
     "output_type": "execute_result"
    }
   ],
   "source": [
    "service_trip_id = pd.merge(calendar[['service_id']],trips[['service_id', 'trip_id']])\n",
    "service_trip_id.head()"
   ]
  },
  {
   "cell_type": "markdown",
   "metadata": {},
   "source": [
    "Merge calendar with trip_id"
   ]
  },
  {
   "cell_type": "code",
   "execution_count": 4,
   "metadata": {
    "collapsed": false
   },
   "outputs": [
    {
     "data": {
      "text/html": [
       "<div>\n",
       "<table border=\"1\" class=\"dataframe\">\n",
       "  <thead>\n",
       "    <tr style=\"text-align: right;\">\n",
       "      <th></th>\n",
       "      <th>service_id</th>\n",
       "      <th>monday</th>\n",
       "      <th>tuesday</th>\n",
       "      <th>wednesday</th>\n",
       "      <th>thursday</th>\n",
       "      <th>friday</th>\n",
       "      <th>saturday</th>\n",
       "      <th>sunday</th>\n",
       "      <th>start_date</th>\n",
       "      <th>end_date</th>\n",
       "      <th>trip_id</th>\n",
       "    </tr>\n",
       "  </thead>\n",
       "  <tbody>\n",
       "    <tr>\n",
       "      <th>0</th>\n",
       "      <td>409714</td>\n",
       "      <td>1</td>\n",
       "      <td>1</td>\n",
       "      <td>1</td>\n",
       "      <td>1</td>\n",
       "      <td>1</td>\n",
       "      <td>0</td>\n",
       "      <td>0</td>\n",
       "      <td>20130124</td>\n",
       "      <td>20130215</td>\n",
       "      <td>2100409714</td>\n",
       "    </tr>\n",
       "    <tr>\n",
       "      <th>1</th>\n",
       "      <td>409716</td>\n",
       "      <td>1</td>\n",
       "      <td>1</td>\n",
       "      <td>1</td>\n",
       "      <td>1</td>\n",
       "      <td>1</td>\n",
       "      <td>0</td>\n",
       "      <td>0</td>\n",
       "      <td>20130219</td>\n",
       "      <td>20130524</td>\n",
       "      <td>2100409716</td>\n",
       "    </tr>\n",
       "    <tr>\n",
       "      <th>2</th>\n",
       "      <td>409718</td>\n",
       "      <td>1</td>\n",
       "      <td>1</td>\n",
       "      <td>1</td>\n",
       "      <td>1</td>\n",
       "      <td>1</td>\n",
       "      <td>0</td>\n",
       "      <td>0</td>\n",
       "      <td>20130528</td>\n",
       "      <td>20140528</td>\n",
       "      <td>2100409718</td>\n",
       "    </tr>\n",
       "    <tr>\n",
       "      <th>3</th>\n",
       "      <td>433850</td>\n",
       "      <td>1</td>\n",
       "      <td>1</td>\n",
       "      <td>1</td>\n",
       "      <td>1</td>\n",
       "      <td>1</td>\n",
       "      <td>0</td>\n",
       "      <td>0</td>\n",
       "      <td>20130303</td>\n",
       "      <td>20130322</td>\n",
       "      <td>2103433850</td>\n",
       "    </tr>\n",
       "    <tr>\n",
       "      <th>4</th>\n",
       "      <td>433851</td>\n",
       "      <td>1</td>\n",
       "      <td>1</td>\n",
       "      <td>1</td>\n",
       "      <td>0</td>\n",
       "      <td>0</td>\n",
       "      <td>0</td>\n",
       "      <td>0</td>\n",
       "      <td>20130325</td>\n",
       "      <td>20130327</td>\n",
       "      <td>2103433851</td>\n",
       "    </tr>\n",
       "  </tbody>\n",
       "</table>\n",
       "</div>"
      ],
      "text/plain": [
       "   service_id  monday  tuesday  wednesday  thursday  friday  saturday  sunday  \\\n",
       "0      409714       1        1          1         1       1         0       0   \n",
       "1      409716       1        1          1         1       1         0       0   \n",
       "2      409718       1        1          1         1       1         0       0   \n",
       "3      433850       1        1          1         1       1         0       0   \n",
       "4      433851       1        1          1         0       0         0       0   \n",
       "\n",
       "   start_date  end_date     trip_id  \n",
       "0    20130124  20130215  2100409714  \n",
       "1    20130219  20130524  2100409716  \n",
       "2    20130528  20140528  2100409718  \n",
       "3    20130303  20130322  2103433850  \n",
       "4    20130325  20130327  2103433851  "
      ]
     },
     "execution_count": 4,
     "metadata": {},
     "output_type": "execute_result"
    }
   ],
   "source": [
    "calendar = pd.merge(calendar,service_trip_id)\n",
    "calendar.head()"
   ]
  },
  {
   "cell_type": "markdown",
   "metadata": {},
   "source": [
    "# Define functions"
   ]
  },
  {
   "cell_type": "markdown",
   "metadata": {},
   "source": [
    "Here's what the stop_times table looks like:"
   ]
  },
  {
   "cell_type": "code",
   "execution_count": 5,
   "metadata": {
    "collapsed": false
   },
   "outputs": [
    {
     "data": {
      "text/html": [
       "<div>\n",
       "<table border=\"1\" class=\"dataframe\">\n",
       "  <thead>\n",
       "    <tr style=\"text-align: right;\">\n",
       "      <th></th>\n",
       "      <th>trip_id</th>\n",
       "      <th>arrival_time</th>\n",
       "      <th>departure_time</th>\n",
       "      <th>stop_id</th>\n",
       "      <th>stop_sequence</th>\n",
       "      <th>pickup_type</th>\n",
       "      <th>drop_off_type</th>\n",
       "    </tr>\n",
       "  </thead>\n",
       "  <tbody>\n",
       "    <tr>\n",
       "      <th>0</th>\n",
       "      <td>2100409714</td>\n",
       "      <td>6:00:00</td>\n",
       "      <td>6:00:00</td>\n",
       "      <td>WAS</td>\n",
       "      <td>1</td>\n",
       "      <td>0</td>\n",
       "      <td>0</td>\n",
       "    </tr>\n",
       "    <tr>\n",
       "      <th>1</th>\n",
       "      <td>2100409714</td>\n",
       "      <td>6:21:00</td>\n",
       "      <td>6:21:00</td>\n",
       "      <td>BWI</td>\n",
       "      <td>2</td>\n",
       "      <td>0</td>\n",
       "      <td>0</td>\n",
       "    </tr>\n",
       "    <tr>\n",
       "      <th>2</th>\n",
       "      <td>2100409714</td>\n",
       "      <td>6:32:00</td>\n",
       "      <td>6:34:00</td>\n",
       "      <td>BAL</td>\n",
       "      <td>3</td>\n",
       "      <td>0</td>\n",
       "      <td>0</td>\n",
       "    </tr>\n",
       "    <tr>\n",
       "      <th>3</th>\n",
       "      <td>2100409714</td>\n",
       "      <td>7:16:00</td>\n",
       "      <td>7:16:00</td>\n",
       "      <td>WIL</td>\n",
       "      <td>4</td>\n",
       "      <td>0</td>\n",
       "      <td>0</td>\n",
       "    </tr>\n",
       "    <tr>\n",
       "      <th>4</th>\n",
       "      <td>2100409714</td>\n",
       "      <td>7:33:00</td>\n",
       "      <td>7:35:00</td>\n",
       "      <td>PHL</td>\n",
       "      <td>5</td>\n",
       "      <td>0</td>\n",
       "      <td>0</td>\n",
       "    </tr>\n",
       "  </tbody>\n",
       "</table>\n",
       "</div>"
      ],
      "text/plain": [
       "      trip_id arrival_time departure_time stop_id  stop_sequence  pickup_type  \\\n",
       "0  2100409714      6:00:00        6:00:00     WAS              1            0   \n",
       "1  2100409714      6:21:00        6:21:00     BWI              2            0   \n",
       "2  2100409714      6:32:00        6:34:00     BAL              3            0   \n",
       "3  2100409714      7:16:00        7:16:00     WIL              4            0   \n",
       "4  2100409714      7:33:00        7:35:00     PHL              5            0   \n",
       "\n",
       "   drop_off_type  \n",
       "0              0  \n",
       "1              0  \n",
       "2              0  \n",
       "3              0  \n",
       "4              0  "
      ]
     },
     "execution_count": 5,
     "metadata": {},
     "output_type": "execute_result"
    }
   ],
   "source": [
    "stop_times.head()"
   ]
  },
  {
   "cell_type": "markdown",
   "metadata": {},
   "source": [
    "Function to add arrival dates to stop_times tables. Deals with arrival times > 24 hours."
   ]
  },
  {
   "cell_type": "code",
   "execution_count": 24,
   "metadata": {
    "collapsed": true
   },
   "outputs": [],
   "source": [
    "def add_arrival_date(df, dates=['1/4/2016', '1/5/2016', '1/6/2016','1/7/2016']):\n",
    "    df = df.copy()\n",
    "    arrival_date = []\n",
    "    arrival_time = []\n",
    "\n",
    "    for i in df['arrival_time']:\n",
    "        hour = i[:i.find(':')]\n",
    "        minute = i[i.find(':')+1:i.find(':',4)]\n",
    "        second = i[i.find(':',5)+1:]\n",
    "        \n",
    "        if int(hour) < 24:\n",
    "            arrival_date.append(dates[0])\n",
    "            arrival_time.append(i)\n",
    "        elif 24 <= int(hour) < 48:\n",
    "            arrival_date.append(dates[1])\n",
    "            hour = int(hour) - 24\n",
    "            arrival_time.append(str(hour)+\":\"+minute+\":\"+second)\n",
    "        elif 48 <= int(hour) < 72:\n",
    "            arrival_date.append(dates[2])\n",
    "            hour = int(hour) - 48\n",
    "            arrival_time.append(str(hour)+\":\"+minute+\":\"+second)\n",
    "        elif 72 <= int(hour) < 96:\n",
    "            arrival_date.append(dates[3])\n",
    "            hour = int(hour) - 72\n",
    "            arrival_time.append(str(hour)+\":\"+minute+\":\"+second)\n",
    "        else:\n",
    "            arrival_date.append('NA')\n",
    "            \n",
    "    df['arrival_date'] = arrival_date\n",
    "    df['arrival_time'] = arrival_time\n",
    "    return df"
   ]
  },
  {
   "cell_type": "markdown",
   "metadata": {},
   "source": [
    "Function to add departure dates to stop_times tables. Deals with departure times >24 hours."
   ]
  },
  {
   "cell_type": "code",
   "execution_count": 25,
   "metadata": {
    "collapsed": true
   },
   "outputs": [],
   "source": [
    "def add_departure_date(df, dates=['1/4/2016', '1/5/2016', '1/6/2016','1/7/2016']):\n",
    "    df = df.copy()\n",
    "    departure_date = []\n",
    "    departure_time = []\n",
    "\n",
    "    for i in df['departure_time']:\n",
    "        hour = i[:i.find(':')]\n",
    "        minute = i[i.find(':')+1:i.find(':',4)]\n",
    "        second = i[i.find(':',5)+1:]\n",
    "        \n",
    "        if int(hour) < 24:\n",
    "            departure_date.append(dates[0])\n",
    "            departure_time.append(i)\n",
    "        elif 24 <= int(hour) < 48:\n",
    "            departure_date.append(dates[1])\n",
    "            hour = int(hour) - 24\n",
    "            departure_time.append(str(hour)+\":\"+minute+\":\"+second)\n",
    "        elif 48 <= int(hour) < 72:\n",
    "            departure_date.append(dates[2])\n",
    "            hour = int(hour) - 48\n",
    "            departure_time.append(str(hour)+\":\"+minute+\":\"+second)\n",
    "        elif 72 <= int(hour) < 96:\n",
    "            departure_date.append(dates[3])\n",
    "            hour = int(hour) - 72\n",
    "            departure_time.append(str(hour)+\":\"+minute+\":\"+second)\n",
    "        else:\n",
    "            departure_date.append('NA')\n",
    "            \n",
    "    df['departure_date'] = departure_date\n",
    "    df['departure_time'] = departure_time\n",
    "    return df"
   ]
  },
  {
   "cell_type": "markdown",
   "metadata": {},
   "source": [
    "# Get timetables for each day of the week"
   ]
  },
  {
   "cell_type": "code",
   "execution_count": 26,
   "metadata": {
    "collapsed": true
   },
   "outputs": [],
   "source": [
    "monday = calendar[calendar['monday'] == 1]\n",
    "tuesday = calendar[calendar['tuesday'] == 1]\n",
    "wednesday = calendar[calendar['wednesday'] == 1]\n",
    "thursday = calendar[calendar['thursday'] == 1]\n",
    "friday = calendar[calendar['friday'] == 1]\n",
    "saturday = calendar[calendar['saturday'] == 1]\n",
    "sunday = calendar[calendar['sunday'] == 1]"
   ]
  },
  {
   "cell_type": "markdown",
   "metadata": {},
   "source": [
    "Store the results here:"
   ]
  },
  {
   "cell_type": "code",
   "execution_count": 27,
   "metadata": {
    "collapsed": true
   },
   "outputs": [],
   "source": [
    "legslist = []"
   ]
  },
  {
   "cell_type": "markdown",
   "metadata": {},
   "source": [
    "## Monday"
   ]
  },
  {
   "cell_type": "code",
   "execution_count": 28,
   "metadata": {
    "collapsed": false
   },
   "outputs": [
    {
     "data": {
      "text/html": [
       "<div>\n",
       "<table border=\"1\" class=\"dataframe\">\n",
       "  <thead>\n",
       "    <tr style=\"text-align: right;\">\n",
       "      <th></th>\n",
       "      <th>service_id</th>\n",
       "      <th>monday</th>\n",
       "      <th>tuesday</th>\n",
       "      <th>wednesday</th>\n",
       "      <th>thursday</th>\n",
       "      <th>friday</th>\n",
       "      <th>saturday</th>\n",
       "      <th>sunday</th>\n",
       "      <th>start_date</th>\n",
       "      <th>end_date</th>\n",
       "      <th>trip_id</th>\n",
       "    </tr>\n",
       "  </thead>\n",
       "  <tbody>\n",
       "    <tr>\n",
       "      <th>0</th>\n",
       "      <td>409714</td>\n",
       "      <td>1</td>\n",
       "      <td>1</td>\n",
       "      <td>1</td>\n",
       "      <td>1</td>\n",
       "      <td>1</td>\n",
       "      <td>0</td>\n",
       "      <td>0</td>\n",
       "      <td>20130124</td>\n",
       "      <td>20130215</td>\n",
       "      <td>2100409714</td>\n",
       "    </tr>\n",
       "    <tr>\n",
       "      <th>1</th>\n",
       "      <td>409716</td>\n",
       "      <td>1</td>\n",
       "      <td>1</td>\n",
       "      <td>1</td>\n",
       "      <td>1</td>\n",
       "      <td>1</td>\n",
       "      <td>0</td>\n",
       "      <td>0</td>\n",
       "      <td>20130219</td>\n",
       "      <td>20130524</td>\n",
       "      <td>2100409716</td>\n",
       "    </tr>\n",
       "    <tr>\n",
       "      <th>2</th>\n",
       "      <td>409718</td>\n",
       "      <td>1</td>\n",
       "      <td>1</td>\n",
       "      <td>1</td>\n",
       "      <td>1</td>\n",
       "      <td>1</td>\n",
       "      <td>0</td>\n",
       "      <td>0</td>\n",
       "      <td>20130528</td>\n",
       "      <td>20140528</td>\n",
       "      <td>2100409718</td>\n",
       "    </tr>\n",
       "    <tr>\n",
       "      <th>3</th>\n",
       "      <td>433850</td>\n",
       "      <td>1</td>\n",
       "      <td>1</td>\n",
       "      <td>1</td>\n",
       "      <td>1</td>\n",
       "      <td>1</td>\n",
       "      <td>0</td>\n",
       "      <td>0</td>\n",
       "      <td>20130303</td>\n",
       "      <td>20130322</td>\n",
       "      <td>2103433850</td>\n",
       "    </tr>\n",
       "    <tr>\n",
       "      <th>4</th>\n",
       "      <td>433851</td>\n",
       "      <td>1</td>\n",
       "      <td>1</td>\n",
       "      <td>1</td>\n",
       "      <td>0</td>\n",
       "      <td>0</td>\n",
       "      <td>0</td>\n",
       "      <td>0</td>\n",
       "      <td>20130325</td>\n",
       "      <td>20130327</td>\n",
       "      <td>2103433851</td>\n",
       "    </tr>\n",
       "  </tbody>\n",
       "</table>\n",
       "</div>"
      ],
      "text/plain": [
       "   service_id  monday  tuesday  wednesday  thursday  friday  saturday  sunday  \\\n",
       "0      409714       1        1          1         1       1         0       0   \n",
       "1      409716       1        1          1         1       1         0       0   \n",
       "2      409718       1        1          1         1       1         0       0   \n",
       "3      433850       1        1          1         1       1         0       0   \n",
       "4      433851       1        1          1         0       0         0       0   \n",
       "\n",
       "   start_date  end_date     trip_id  \n",
       "0    20130124  20130215  2100409714  \n",
       "1    20130219  20130524  2100409716  \n",
       "2    20130528  20140528  2100409718  \n",
       "3    20130303  20130322  2103433850  \n",
       "4    20130325  20130327  2103433851  "
      ]
     },
     "execution_count": 28,
     "metadata": {},
     "output_type": "execute_result"
    }
   ],
   "source": [
    "monday.head()"
   ]
  },
  {
   "cell_type": "code",
   "execution_count": 33,
   "metadata": {
    "collapsed": false
   },
   "outputs": [
    {
     "name": "stdout",
     "output_type": "stream",
     "text": [
      "1114\n"
     ]
    },
    {
     "data": {
      "text/plain": [
       "0    2100409714\n",
       "1    2100409716\n",
       "2    2100409718\n",
       "3    2103433850\n",
       "4    2103433851\n",
       "Name: trip_id, dtype: int64"
      ]
     },
     "execution_count": 33,
     "metadata": {},
     "output_type": "execute_result"
    }
   ],
   "source": [
    "monday_trips = monday['trip_id']\n",
    "print len(monday_trips)\n",
    "monday_trips.head()"
   ]
  },
  {
   "cell_type": "code",
   "execution_count": 30,
   "metadata": {
    "collapsed": false
   },
   "outputs": [],
   "source": [
    "for i in monday_trips:\n",
    "    df = stop_times[stop_times['trip_id'] == i]\n",
    "    df = add_arrival_date(df, dates=['1/4/2016', '1/5/2016', '1/6/2016','1/7/2016'])\n",
    "    df = add_departure_date(df, dates=['1/4/2016', '1/5/2016', '1/6/2016','1/7/2016'])\n",
    "    \n",
    "    df['arrival_datetime'] = pd.to_datetime(df['arrival_date'] + ' ' + df['arrival_time'])\n",
    "    df['departure_datetime'] = pd.to_datetime(df['departure_date'] + ' ' + df['departure_time'])\n",
    "\n",
    "\n",
    "    # join df with stops\n",
    "    df = pd.merge(df, stops[['stop_id', 'stop_name', 'stop_lat', 'stop_lon']],left_on='stop_id', right_on='stop_id')\n",
    "\n",
    "    # join df with trips to get direction id\n",
    "    df = pd.merge(df, trips[['trip_id', 'trip_short_name', 'direction_id', 'route_id']], left_on='trip_id', right_on='trip_id', how='left')\n",
    "\n",
    "    # join df with routes to gt train name\n",
    "    df = pd.merge(df, routes[['route_id', 'route_long_name']], left_on='route_id', right_on='route_id', how='left')\n",
    "\n",
    "    # make a new dataframe called legs\n",
    "    legs = pd.DataFrame()\n",
    "    legs['starttime'] = df['departure_datetime']\n",
    "    legs['stoptime'] = df['arrival_datetime'].shift(-1).fillna(method='ffill')\n",
    "    legs['tripduration'] = (legs['stoptime'] - legs['starttime'])/np.timedelta64(1, 's')\n",
    "    legs['tripduration'] = [int(x) for x in legs['tripduration']]\n",
    "    legs['start station id'] = df['stop_id']\n",
    "    legs['start station name'] = df['stop_name']\n",
    "    legs['start station latitude'] = df['stop_lat']\n",
    "    legs['start station longitude'] = df['stop_lon']\n",
    "    legs['end station id'] = legs['start station id'].shift(-1).fillna(method='ffill')\n",
    "    legs['end station name'] = legs['start station name'].shift(-1).fillna(method='ffill')\n",
    "    legs['end station latitude'] = legs['start station latitude'].shift(-1).fillna(method='ffill')\n",
    "    legs['end station longitude'] = legs['start station longitude'].shift(-1).fillna(method='ffill')\n",
    "    legs['route_id'] = 1 # I'm choosing to set American trains to route_id = 1\n",
    "    legs['direction'] = df['direction_id']\n",
    "    legs['trainName'] = df['route_long_name']\n",
    "    legs['trainNumber'] = df['trip_short_name']\n",
    "\n",
    "    legslist.append(legs)"
   ]
  },
  {
   "cell_type": "markdown",
   "metadata": {},
   "source": [
    "## Tuesday"
   ]
  },
  {
   "cell_type": "code",
   "execution_count": 31,
   "metadata": {
    "collapsed": false
   },
   "outputs": [
    {
     "name": "stdout",
     "output_type": "stream",
     "text": [
      "916\n"
     ]
    }
   ],
   "source": [
    "tuesday_trips = tuesday['trip_id']\n",
    "tuesday_trips.head()\n",
    "print len(tuesday_trips)"
   ]
  },
  {
   "cell_type": "code",
   "execution_count": 32,
   "metadata": {
    "collapsed": true
   },
   "outputs": [],
   "source": [
    "for i in tuesday_trips:\n",
    "    df = stop_times[stop_times['trip_id'] == i]\n",
    "    df = add_arrival_date(df, dates=['1/5/2016', '1/6/2016', '1/7/2016','1/8/2016'])\n",
    "    df = add_departure_date(df, dates=['1/5/2016', '1/6/2016', '1/7/2016','1/8/2016'])\n",
    "    \n",
    "    df['arrival_datetime'] = pd.to_datetime(df['arrival_date'] + ' ' + df['arrival_time'])\n",
    "    df['departure_datetime'] = pd.to_datetime(df['departure_date'] + ' ' + df['departure_time'])\n",
    "\n",
    "\n",
    "    # join df with stops\n",
    "    df = pd.merge(df, stops[['stop_id', 'stop_name', 'stop_lat', 'stop_lon']],left_on='stop_id', right_on='stop_id')\n",
    "\n",
    "    # join df with trips to get direction id\n",
    "    df = pd.merge(df, trips[['trip_id', 'trip_short_name', 'direction_id', 'route_id']], left_on='trip_id', right_on='trip_id', how='left')\n",
    "\n",
    "    # join df with routes to gt train name\n",
    "    df = pd.merge(df, routes[['route_id', 'route_long_name']], left_on='route_id', right_on='route_id', how='left')\n",
    "\n",
    "    # make a new dataframe called legs\n",
    "    legs = pd.DataFrame()\n",
    "    legs['starttime'] = df['departure_datetime']\n",
    "    legs['stoptime'] = df['arrival_datetime'].shift(-1).fillna(method='ffill')\n",
    "    legs['tripduration'] = (legs['stoptime'] - legs['starttime'])/np.timedelta64(1, 's')\n",
    "    legs['tripduration'] = [int(x) for x in legs['tripduration']]\n",
    "    legs['start station id'] = df['stop_id']\n",
    "    legs['start station name'] = df['stop_name']\n",
    "    legs['start station latitude'] = df['stop_lat']\n",
    "    legs['start station longitude'] = df['stop_lon']\n",
    "    legs['end station id'] = legs['start station id'].shift(-1).fillna(method='ffill')\n",
    "    legs['end station name'] = legs['start station name'].shift(-1).fillna(method='ffill')\n",
    "    legs['end station latitude'] = legs['start station latitude'].shift(-1).fillna(method='ffill')\n",
    "    legs['end station longitude'] = legs['start station longitude'].shift(-1).fillna(method='ffill')\n",
    "    legs['route_id'] = 1 # I'm choosing to set American trains to route_id = 1\n",
    "    legs['direction'] = df['direction_id']\n",
    "    legs['trainName'] = df['route_long_name']\n",
    "    legs['trainNumber'] = df['trip_short_name']\n",
    "\n",
    "    legslist.append(legs)"
   ]
  },
  {
   "cell_type": "markdown",
   "metadata": {},
   "source": [
    "## Wednesday"
   ]
  },
  {
   "cell_type": "code",
   "execution_count": 36,
   "metadata": {
    "collapsed": false
   },
   "outputs": [
    {
     "name": "stdout",
     "output_type": "stream",
     "text": [
      "917\n"
     ]
    }
   ],
   "source": [
    "wednesday_trips = wednesday['trip_id']\n",
    "wednesday_trips.head()\n",
    "print len(wednesday_trips)"
   ]
  },
  {
   "cell_type": "code",
   "execution_count": 37,
   "metadata": {
    "collapsed": true
   },
   "outputs": [],
   "source": [
    "for i in wednesday_trips:\n",
    "    df = stop_times[stop_times['trip_id'] == i]\n",
    "    df = add_arrival_date(df, dates=['1/6/2016', '1/7/2016', '1/8/2016','1/9/2016'])\n",
    "    df = add_departure_date(df, dates=['1/6/2016', '1/7/2016', '1/8/2016','1/9/2016'])\n",
    "    \n",
    "    df['arrival_datetime'] = pd.to_datetime(df['arrival_date'] + ' ' + df['arrival_time'])\n",
    "    df['departure_datetime'] = pd.to_datetime(df['departure_date'] + ' ' + df['departure_time'])\n",
    "\n",
    "\n",
    "    # join df with stops\n",
    "    df = pd.merge(df, stops[['stop_id', 'stop_name', 'stop_lat', 'stop_lon']],left_on='stop_id', right_on='stop_id')\n",
    "\n",
    "    # join df with trips to get direction id\n",
    "    df = pd.merge(df, trips[['trip_id', 'trip_short_name', 'direction_id', 'route_id']], left_on='trip_id', right_on='trip_id', how='left')\n",
    "\n",
    "    # join df with routes to gt train name\n",
    "    df = pd.merge(df, routes[['route_id', 'route_long_name']], left_on='route_id', right_on='route_id', how='left')\n",
    "\n",
    "    # make a new dataframe called legs\n",
    "    legs = pd.DataFrame()\n",
    "    legs['starttime'] = df['departure_datetime']\n",
    "    legs['stoptime'] = df['arrival_datetime'].shift(-1).fillna(method='ffill')\n",
    "    legs['tripduration'] = (legs['stoptime'] - legs['starttime'])/np.timedelta64(1, 's')\n",
    "    legs['tripduration'] = [int(x) for x in legs['tripduration']]\n",
    "    legs['start station id'] = df['stop_id']\n",
    "    legs['start station name'] = df['stop_name']\n",
    "    legs['start station latitude'] = df['stop_lat']\n",
    "    legs['start station longitude'] = df['stop_lon']\n",
    "    legs['end station id'] = legs['start station id'].shift(-1).fillna(method='ffill')\n",
    "    legs['end station name'] = legs['start station name'].shift(-1).fillna(method='ffill')\n",
    "    legs['end station latitude'] = legs['start station latitude'].shift(-1).fillna(method='ffill')\n",
    "    legs['end station longitude'] = legs['start station longitude'].shift(-1).fillna(method='ffill')\n",
    "    legs['route_id'] = 1 # I'm choosing to set American trains to route_id = 1\n",
    "    legs['direction'] = df['direction_id']\n",
    "    legs['trainName'] = df['route_long_name']\n",
    "    legs['trainNumber'] = df['trip_short_name']\n",
    "\n",
    "    legslist.append(legs)"
   ]
  },
  {
   "cell_type": "markdown",
   "metadata": {},
   "source": [
    "## Thursday"
   ]
  },
  {
   "cell_type": "code",
   "execution_count": 38,
   "metadata": {
    "collapsed": false
   },
   "outputs": [
    {
     "name": "stdout",
     "output_type": "stream",
     "text": [
      "888\n"
     ]
    }
   ],
   "source": [
    "thursday_trips = thursday['trip_id']\n",
    "thursday_trips.head()\n",
    "print len(thursday_trips)"
   ]
  },
  {
   "cell_type": "code",
   "execution_count": 39,
   "metadata": {
    "collapsed": true
   },
   "outputs": [],
   "source": [
    "for i in thursday_trips:\n",
    "    df = stop_times[stop_times['trip_id'] == i]\n",
    "    df = add_arrival_date(df, dates=['1/7/2016', '1/8/2016', '1/9/2016','1/10/2016'])\n",
    "    df = add_departure_date(df, dates=['1/7/2016', '1/8/2016', '1/9/2016','1/10/2016'])\n",
    "    \n",
    "    df['arrival_datetime'] = pd.to_datetime(df['arrival_date'] + ' ' + df['arrival_time'])\n",
    "    df['departure_datetime'] = pd.to_datetime(df['departure_date'] + ' ' + df['departure_time'])\n",
    "\n",
    "\n",
    "    # join df with stops\n",
    "    df = pd.merge(df, stops[['stop_id', 'stop_name', 'stop_lat', 'stop_lon']],left_on='stop_id', right_on='stop_id')\n",
    "\n",
    "    # join df with trips to get direction id\n",
    "    df = pd.merge(df, trips[['trip_id', 'trip_short_name', 'direction_id', 'route_id']], left_on='trip_id', right_on='trip_id', how='left')\n",
    "\n",
    "    # join df with routes to gt train name\n",
    "    df = pd.merge(df, routes[['route_id', 'route_long_name']], left_on='route_id', right_on='route_id', how='left')\n",
    "\n",
    "    # make a new dataframe called legs\n",
    "    legs = pd.DataFrame()\n",
    "    legs['starttime'] = df['departure_datetime']\n",
    "    legs['stoptime'] = df['arrival_datetime'].shift(-1).fillna(method='ffill')\n",
    "    legs['tripduration'] = (legs['stoptime'] - legs['starttime'])/np.timedelta64(1, 's')\n",
    "    legs['tripduration'] = [int(x) for x in legs['tripduration']]\n",
    "    legs['start station id'] = df['stop_id']\n",
    "    legs['start station name'] = df['stop_name']\n",
    "    legs['start station latitude'] = df['stop_lat']\n",
    "    legs['start station longitude'] = df['stop_lon']\n",
    "    legs['end station id'] = legs['start station id'].shift(-1).fillna(method='ffill')\n",
    "    legs['end station name'] = legs['start station name'].shift(-1).fillna(method='ffill')\n",
    "    legs['end station latitude'] = legs['start station latitude'].shift(-1).fillna(method='ffill')\n",
    "    legs['end station longitude'] = legs['start station longitude'].shift(-1).fillna(method='ffill')\n",
    "    legs['route_id'] = 1 # I'm choosing to set American trains to route_id = 1\n",
    "    legs['direction'] = df['direction_id']\n",
    "    legs['trainName'] = df['route_long_name']\n",
    "    legs['trainNumber'] = df['trip_short_name']\n",
    "\n",
    "    legslist.append(legs)"
   ]
  },
  {
   "cell_type": "markdown",
   "metadata": {},
   "source": [
    "## Friday"
   ]
  },
  {
   "cell_type": "code",
   "execution_count": 40,
   "metadata": {
    "collapsed": false
   },
   "outputs": [
    {
     "name": "stdout",
     "output_type": "stream",
     "text": [
      "882\n"
     ]
    }
   ],
   "source": [
    "friday_trips = friday['trip_id']\n",
    "friday_trips.head()\n",
    "print len(friday_trips)"
   ]
  },
  {
   "cell_type": "code",
   "execution_count": 41,
   "metadata": {
    "collapsed": true
   },
   "outputs": [],
   "source": [
    "for i in friday_trips:\n",
    "    df = stop_times[stop_times['trip_id'] == i]\n",
    "    df = add_arrival_date(df, dates=['1/8/2016', '1/9/2016', '1/10/2016','1/11/2016'])\n",
    "    df = add_departure_date(df, dates=['1/8/2016', '1/9/2016', '1/10/2016','1/11/2016'])\n",
    "    \n",
    "    df['arrival_datetime'] = pd.to_datetime(df['arrival_date'] + ' ' + df['arrival_time'])\n",
    "    df['departure_datetime'] = pd.to_datetime(df['departure_date'] + ' ' + df['departure_time'])\n",
    "\n",
    "\n",
    "    # join df with stops\n",
    "    df = pd.merge(df, stops[['stop_id', 'stop_name', 'stop_lat', 'stop_lon']],left_on='stop_id', right_on='stop_id')\n",
    "\n",
    "    # join df with trips to get direction id\n",
    "    df = pd.merge(df, trips[['trip_id', 'trip_short_name', 'direction_id', 'route_id']], left_on='trip_id', right_on='trip_id', how='left')\n",
    "\n",
    "    # join df with routes to gt train name\n",
    "    df = pd.merge(df, routes[['route_id', 'route_long_name']], left_on='route_id', right_on='route_id', how='left')\n",
    "\n",
    "    # make a new dataframe called legs\n",
    "    legs = pd.DataFrame()\n",
    "    legs['starttime'] = df['departure_datetime']\n",
    "    legs['stoptime'] = df['arrival_datetime'].shift(-1).fillna(method='ffill')\n",
    "    legs['tripduration'] = (legs['stoptime'] - legs['starttime'])/np.timedelta64(1, 's')\n",
    "    legs['tripduration'] = [int(x) for x in legs['tripduration']]\n",
    "    legs['start station id'] = df['stop_id']\n",
    "    legs['start station name'] = df['stop_name']\n",
    "    legs['start station latitude'] = df['stop_lat']\n",
    "    legs['start station longitude'] = df['stop_lon']\n",
    "    legs['end station id'] = legs['start station id'].shift(-1).fillna(method='ffill')\n",
    "    legs['end station name'] = legs['start station name'].shift(-1).fillna(method='ffill')\n",
    "    legs['end station latitude'] = legs['start station latitude'].shift(-1).fillna(method='ffill')\n",
    "    legs['end station longitude'] = legs['start station longitude'].shift(-1).fillna(method='ffill')\n",
    "    legs['route_id'] = 1 # I'm choosing to set American trains to route_id = 1\n",
    "    legs['direction'] = df['direction_id']\n",
    "    legs['trainName'] = df['route_long_name']\n",
    "    legs['trainNumber'] = df['trip_short_name']\n",
    "\n",
    "    legslist.append(legs)"
   ]
  },
  {
   "cell_type": "markdown",
   "metadata": {},
   "source": [
    "## Saturday"
   ]
  },
  {
   "cell_type": "code",
   "execution_count": 42,
   "metadata": {
    "collapsed": false
   },
   "outputs": [
    {
     "name": "stdout",
     "output_type": "stream",
     "text": [
      "575\n"
     ]
    }
   ],
   "source": [
    "saturday_trips = saturday['trip_id']\n",
    "saturday_trips.head()\n",
    "print len(saturday_trips)"
   ]
  },
  {
   "cell_type": "code",
   "execution_count": 43,
   "metadata": {
    "collapsed": true
   },
   "outputs": [],
   "source": [
    "for i in saturday_trips:\n",
    "    df = stop_times[stop_times['trip_id'] == i]\n",
    "    df = add_arrival_date(df, dates=['1/9/2016', '1/10/2016', '1/11/2016','1/12/2016'])\n",
    "    df = add_departure_date(df, dates=['1/9/2016', '1/10/2016', '1/11/2016','1/12/2016'])\n",
    "    \n",
    "    df['arrival_datetime'] = pd.to_datetime(df['arrival_date'] + ' ' + df['arrival_time'])\n",
    "    df['departure_datetime'] = pd.to_datetime(df['departure_date'] + ' ' + df['departure_time'])\n",
    "\n",
    "\n",
    "    # join df with stops\n",
    "    df = pd.merge(df, stops[['stop_id', 'stop_name', 'stop_lat', 'stop_lon']],left_on='stop_id', right_on='stop_id')\n",
    "\n",
    "    # join df with trips to get direction id\n",
    "    df = pd.merge(df, trips[['trip_id', 'trip_short_name', 'direction_id', 'route_id']], left_on='trip_id', right_on='trip_id', how='left')\n",
    "\n",
    "    # join df with routes to gt train name\n",
    "    df = pd.merge(df, routes[['route_id', 'route_long_name']], left_on='route_id', right_on='route_id', how='left')\n",
    "\n",
    "    # make a new dataframe called legs\n",
    "    legs = pd.DataFrame()\n",
    "    legs['starttime'] = df['departure_datetime']\n",
    "    legs['stoptime'] = df['arrival_datetime'].shift(-1).fillna(method='ffill')\n",
    "    legs['tripduration'] = (legs['stoptime'] - legs['starttime'])/np.timedelta64(1, 's')\n",
    "    legs['tripduration'] = [int(x) for x in legs['tripduration']]\n",
    "    legs['start station id'] = df['stop_id']\n",
    "    legs['start station name'] = df['stop_name']\n",
    "    legs['start station latitude'] = df['stop_lat']\n",
    "    legs['start station longitude'] = df['stop_lon']\n",
    "    legs['end station id'] = legs['start station id'].shift(-1).fillna(method='ffill')\n",
    "    legs['end station name'] = legs['start station name'].shift(-1).fillna(method='ffill')\n",
    "    legs['end station latitude'] = legs['start station latitude'].shift(-1).fillna(method='ffill')\n",
    "    legs['end station longitude'] = legs['start station longitude'].shift(-1).fillna(method='ffill')\n",
    "    legs['route_id'] = 1 # I'm choosing to set American trains to route_id = 1\n",
    "    legs['direction'] = df['direction_id']\n",
    "    legs['trainName'] = df['route_long_name']\n",
    "    legs['trainNumber'] = df['trip_short_name']\n",
    "\n",
    "    legslist.append(legs)"
   ]
  },
  {
   "cell_type": "markdown",
   "metadata": {},
   "source": [
    "## Sunday"
   ]
  },
  {
   "cell_type": "code",
   "execution_count": 44,
   "metadata": {
    "collapsed": false
   },
   "outputs": [
    {
     "name": "stdout",
     "output_type": "stream",
     "text": [
      "700\n"
     ]
    }
   ],
   "source": [
    "sunday_trips = sunday['trip_id']\n",
    "sunday_trips.head()\n",
    "print len(sunday_trips)"
   ]
  },
  {
   "cell_type": "code",
   "execution_count": 45,
   "metadata": {
    "collapsed": true
   },
   "outputs": [],
   "source": [
    "for i in sunday_trips:\n",
    "    df = stop_times[stop_times['trip_id'] == i]\n",
    "    df = add_arrival_date(df, dates=['1/10/2016', '1/11/2016', '1/12/2016','1/13/2016'])\n",
    "    df = add_departure_date(df, dates=['1/10/2016', '1/11/2016', '1/12/2016','1/13/2016'])\n",
    "    \n",
    "    df['arrival_datetime'] = pd.to_datetime(df['arrival_date'] + ' ' + df['arrival_time'])\n",
    "    df['departure_datetime'] = pd.to_datetime(df['departure_date'] + ' ' + df['departure_time'])\n",
    "\n",
    "\n",
    "    # join df with stops\n",
    "    df = pd.merge(df, stops[['stop_id', 'stop_name', 'stop_lat', 'stop_lon']],left_on='stop_id', right_on='stop_id')\n",
    "\n",
    "    # join df with trips to get direction id\n",
    "    df = pd.merge(df, trips[['trip_id', 'trip_short_name', 'direction_id', 'route_id']], left_on='trip_id', right_on='trip_id', how='left')\n",
    "\n",
    "    # join df with routes to gt train name\n",
    "    df = pd.merge(df, routes[['route_id', 'route_long_name']], left_on='route_id', right_on='route_id', how='left')\n",
    "\n",
    "    # make a new dataframe called legs\n",
    "    legs = pd.DataFrame()\n",
    "    legs['starttime'] = df['departure_datetime']\n",
    "    legs['stoptime'] = df['arrival_datetime'].shift(-1).fillna(method='ffill')\n",
    "    legs['tripduration'] = (legs['stoptime'] - legs['starttime'])/np.timedelta64(1, 's')\n",
    "    legs['tripduration'] = [int(x) for x in legs['tripduration']]\n",
    "    legs['start station id'] = df['stop_id']\n",
    "    legs['start station name'] = df['stop_name']\n",
    "    legs['start station latitude'] = df['stop_lat']\n",
    "    legs['start station longitude'] = df['stop_lon']\n",
    "    legs['end station id'] = legs['start station id'].shift(-1).fillna(method='ffill')\n",
    "    legs['end station name'] = legs['start station name'].shift(-1).fillna(method='ffill')\n",
    "    legs['end station latitude'] = legs['start station latitude'].shift(-1).fillna(method='ffill')\n",
    "    legs['end station longitude'] = legs['start station longitude'].shift(-1).fillna(method='ffill')\n",
    "    legs['route_id'] = 1 # I'm choosing to set American trains to route_id = 1\n",
    "    legs['direction'] = df['direction_id']\n",
    "    legs['trainName'] = df['route_long_name']\n",
    "    legs['trainNumber'] = df['trip_short_name']\n",
    "\n",
    "    legslist.append(legs)"
   ]
  },
  {
   "cell_type": "markdown",
   "metadata": {},
   "source": [
    "# View the aggregate data"
   ]
  },
  {
   "cell_type": "code",
   "execution_count": 46,
   "metadata": {
    "collapsed": true
   },
   "outputs": [],
   "source": [
    "data = pd.concat(legslist)"
   ]
  },
  {
   "cell_type": "code",
   "execution_count": 47,
   "metadata": {
    "collapsed": false
   },
   "outputs": [
    {
     "data": {
      "text/plain": [
       "88019"
      ]
     },
     "execution_count": 47,
     "metadata": {},
     "output_type": "execute_result"
    }
   ],
   "source": [
    "len(data)"
   ]
  },
  {
   "cell_type": "code",
   "execution_count": 50,
   "metadata": {
    "collapsed": false
   },
   "outputs": [
    {
     "data": {
      "text/html": [
       "<div>\n",
       "<table border=\"1\" class=\"dataframe\">\n",
       "  <thead>\n",
       "    <tr style=\"text-align: right;\">\n",
       "      <th></th>\n",
       "      <th>starttime</th>\n",
       "      <th>stoptime</th>\n",
       "      <th>tripduration</th>\n",
       "      <th>start station id</th>\n",
       "      <th>start station name</th>\n",
       "      <th>start station latitude</th>\n",
       "      <th>start station longitude</th>\n",
       "      <th>end station id</th>\n",
       "      <th>end station name</th>\n",
       "      <th>end station latitude</th>\n",
       "      <th>end station longitude</th>\n",
       "      <th>route_id</th>\n",
       "      <th>direction</th>\n",
       "      <th>trainName</th>\n",
       "      <th>trainNumber</th>\n",
       "    </tr>\n",
       "  </thead>\n",
       "  <tbody>\n",
       "    <tr>\n",
       "      <th>10</th>\n",
       "      <td>2016-01-10 22:03:00</td>\n",
       "      <td>2016-01-10 22:24:00</td>\n",
       "      <td>1260</td>\n",
       "      <td>NLS</td>\n",
       "      <td>Niles Amtrak</td>\n",
       "      <td>41.837412</td>\n",
       "      <td>-86.252372</td>\n",
       "      <td>NBU</td>\n",
       "      <td>New Buffalo Amtrak</td>\n",
       "      <td>41.796656</td>\n",
       "      <td>-86.745782</td>\n",
       "      <td>1</td>\n",
       "      <td>0</td>\n",
       "      <td>Wolverine</td>\n",
       "      <td>355</td>\n",
       "    </tr>\n",
       "    <tr>\n",
       "      <th>11</th>\n",
       "      <td>2016-01-10 22:24:00</td>\n",
       "      <td>2016-01-10 22:34:00</td>\n",
       "      <td>600</td>\n",
       "      <td>NBU</td>\n",
       "      <td>New Buffalo Amtrak</td>\n",
       "      <td>41.796656</td>\n",
       "      <td>-86.745782</td>\n",
       "      <td>MCI</td>\n",
       "      <td>Michigan City Amtrak</td>\n",
       "      <td>41.721103</td>\n",
       "      <td>-86.905385</td>\n",
       "      <td>1</td>\n",
       "      <td>0</td>\n",
       "      <td>Wolverine</td>\n",
       "      <td>355</td>\n",
       "    </tr>\n",
       "    <tr>\n",
       "      <th>12</th>\n",
       "      <td>2016-01-10 22:34:00</td>\n",
       "      <td>2016-01-10 23:08:00</td>\n",
       "      <td>2040</td>\n",
       "      <td>MCI</td>\n",
       "      <td>Michigan City Amtrak</td>\n",
       "      <td>41.721103</td>\n",
       "      <td>-86.905385</td>\n",
       "      <td>HMI</td>\n",
       "      <td>Hammond-Whiting Amtrak</td>\n",
       "      <td>41.691155</td>\n",
       "      <td>-87.506511</td>\n",
       "      <td>1</td>\n",
       "      <td>0</td>\n",
       "      <td>Wolverine</td>\n",
       "      <td>355</td>\n",
       "    </tr>\n",
       "    <tr>\n",
       "      <th>13</th>\n",
       "      <td>2016-01-10 23:08:00</td>\n",
       "      <td>2016-01-10 23:57:00</td>\n",
       "      <td>2940</td>\n",
       "      <td>HMI</td>\n",
       "      <td>Hammond-Whiting Amtrak</td>\n",
       "      <td>41.691155</td>\n",
       "      <td>-87.506511</td>\n",
       "      <td>CHI</td>\n",
       "      <td>Chicago Union Station</td>\n",
       "      <td>41.878684</td>\n",
       "      <td>-87.639443</td>\n",
       "      <td>1</td>\n",
       "      <td>0</td>\n",
       "      <td>Wolverine</td>\n",
       "      <td>355</td>\n",
       "    </tr>\n",
       "    <tr>\n",
       "      <th>14</th>\n",
       "      <td>2016-01-10 23:57:00</td>\n",
       "      <td>2016-01-10 23:57:00</td>\n",
       "      <td>0</td>\n",
       "      <td>CHI</td>\n",
       "      <td>Chicago Union Station</td>\n",
       "      <td>41.878684</td>\n",
       "      <td>-87.639443</td>\n",
       "      <td>CHI</td>\n",
       "      <td>Chicago Union Station</td>\n",
       "      <td>41.878684</td>\n",
       "      <td>-87.639443</td>\n",
       "      <td>1</td>\n",
       "      <td>0</td>\n",
       "      <td>Wolverine</td>\n",
       "      <td>355</td>\n",
       "    </tr>\n",
       "  </tbody>\n",
       "</table>\n",
       "</div>"
      ],
      "text/plain": [
       "             starttime            stoptime  tripduration start station id  \\\n",
       "10 2016-01-10 22:03:00 2016-01-10 22:24:00          1260              NLS   \n",
       "11 2016-01-10 22:24:00 2016-01-10 22:34:00           600              NBU   \n",
       "12 2016-01-10 22:34:00 2016-01-10 23:08:00          2040              MCI   \n",
       "13 2016-01-10 23:08:00 2016-01-10 23:57:00          2940              HMI   \n",
       "14 2016-01-10 23:57:00 2016-01-10 23:57:00             0              CHI   \n",
       "\n",
       "        start station name  start station latitude  start station longitude  \\\n",
       "10            Niles Amtrak               41.837412               -86.252372   \n",
       "11      New Buffalo Amtrak               41.796656               -86.745782   \n",
       "12    Michigan City Amtrak               41.721103               -86.905385   \n",
       "13  Hammond-Whiting Amtrak               41.691155               -87.506511   \n",
       "14   Chicago Union Station               41.878684               -87.639443   \n",
       "\n",
       "   end station id        end station name  end station latitude  \\\n",
       "10            NBU      New Buffalo Amtrak             41.796656   \n",
       "11            MCI    Michigan City Amtrak             41.721103   \n",
       "12            HMI  Hammond-Whiting Amtrak             41.691155   \n",
       "13            CHI   Chicago Union Station             41.878684   \n",
       "14            CHI   Chicago Union Station             41.878684   \n",
       "\n",
       "    end station longitude  route_id  direction  trainName  trainNumber  \n",
       "10             -86.745782         1          0  Wolverine          355  \n",
       "11             -86.905385         1          0  Wolverine          355  \n",
       "12             -87.506511         1          0  Wolverine          355  \n",
       "13             -87.639443         1          0  Wolverine          355  \n",
       "14             -87.639443         1          0  Wolverine          355  "
      ]
     },
     "execution_count": 50,
     "metadata": {},
     "output_type": "execute_result"
    }
   ],
   "source": [
    "data.tail()"
   ]
  },
  {
   "cell_type": "markdown",
   "metadata": {},
   "source": [
    "# Print to csv\n",
    "\n",
    "Remember to delete index column before running processing script."
   ]
  },
  {
   "cell_type": "code",
   "execution_count": 51,
   "metadata": {
    "collapsed": true
   },
   "outputs": [],
   "source": [
    "data.to_csv('./amtrak/legsconcat2.csv')"
   ]
  },
  {
   "cell_type": "markdown",
   "metadata": {},
   "source": [
    "This worked pretty well!\n",
    "\n",
    "I manually deleted a few train legs:\n",
    "\n",
    "Autotrain 52 and 53 between Lorton VA and Sanford FL. \n",
    "\n",
    "Empire Builder from Seattle to St Paul.\n",
    "\n",
    "This is an excel formula to calculate geodesic distance: =ACOS(COS(RADIANS(90-F2)) *COS(RADIANS(90-J2)) +SIN(RADIANS(90-F2)) *SIN(RADIANS(90-J2)) *COS(RADIANS(G2-K2))) *6371"
   ]
  },
  {
   "cell_type": "markdown",
   "metadata": {},
   "source": [
    "# Color coding by train name"
   ]
  },
  {
   "cell_type": "code",
   "execution_count": 59,
   "metadata": {
    "collapsed": false
   },
   "outputs": [
    {
     "data": {
      "text/plain": [
       "array(['Acela Express', 'Adirondack', 'Auto Train', 'Blue Water',\n",
       "       'California Zephyr', 'Capitol Corridor', 'Capitol Limited',\n",
       "       'Cardinal', 'Carl Sandburg', 'Carolinian', 'City Of New Orleans',\n",
       "       'Coast Starlight', 'Crescent', 'Downeaster', 'Empire Builder',\n",
       "       'Empire Service', 'Ethan Allen Express', 'Heartland Flyer',\n",
       "       'Hiawatha Service', 'Hoosier State', 'Illini', 'Illinois Zephyr',\n",
       "       'Keystone Service', 'Lake Shore Limited', 'Lincoln Service',\n",
       "       'Missouri River Runner', 'Northeast Regional', 'Pacific Surfliner',\n",
       "       'Palmetto', 'Pennsylvanian', 'Pere Marquette', 'Piedmont', 'Saluki',\n",
       "       'San Joaquin', 'Shuttle', 'Silver Meteor', 'Silver Star',\n",
       "       'Southwest Chief', 'Texas Eagle', 'Vermonter', 'Wolverine'], dtype=object)"
      ]
     },
     "execution_count": 59,
     "metadata": {},
     "output_type": "execute_result"
    }
   ],
   "source": [
    "np.unique(data['trainName'])"
   ]
  },
  {
   "cell_type": "code",
   "execution_count": 71,
   "metadata": {
    "collapsed": false
   },
   "outputs": [
    {
     "data": {
      "text/html": [
       "<div>\n",
       "<table border=\"1\" class=\"dataframe\">\n",
       "  <thead>\n",
       "    <tr style=\"text-align: right;\">\n",
       "      <th></th>\n",
       "      <th>Region</th>\n",
       "      <th>Train</th>\n",
       "      <th>RegionNumber</th>\n",
       "      <th>TrainNumber</th>\n",
       "    </tr>\n",
       "  </thead>\n",
       "  <tbody>\n",
       "    <tr>\n",
       "      <th>0</th>\n",
       "      <td>Northeast Corridor</td>\n",
       "      <td>Acela Express</td>\n",
       "      <td>1</td>\n",
       "      <td>1</td>\n",
       "    </tr>\n",
       "    <tr>\n",
       "      <th>1</th>\n",
       "      <td>Northeast Corridor</td>\n",
       "      <td>Northeast Regional</td>\n",
       "      <td>1</td>\n",
       "      <td>2</td>\n",
       "    </tr>\n",
       "    <tr>\n",
       "      <th>2</th>\n",
       "      <td>Northeast Corridor</td>\n",
       "      <td>Downeaster</td>\n",
       "      <td>1</td>\n",
       "      <td>3</td>\n",
       "    </tr>\n",
       "    <tr>\n",
       "      <th>3</th>\n",
       "      <td>Northeast Corridor</td>\n",
       "      <td>Keystone Service</td>\n",
       "      <td>1</td>\n",
       "      <td>4</td>\n",
       "    </tr>\n",
       "    <tr>\n",
       "      <th>4</th>\n",
       "      <td>Northeast Corridor</td>\n",
       "      <td>Empire Service</td>\n",
       "      <td>1</td>\n",
       "      <td>5</td>\n",
       "    </tr>\n",
       "    <tr>\n",
       "      <th>5</th>\n",
       "      <td>East</td>\n",
       "      <td>Adirondack</td>\n",
       "      <td>2</td>\n",
       "      <td>6</td>\n",
       "    </tr>\n",
       "    <tr>\n",
       "      <th>6</th>\n",
       "      <td>East</td>\n",
       "      <td>Vermonter</td>\n",
       "      <td>2</td>\n",
       "      <td>7</td>\n",
       "    </tr>\n",
       "    <tr>\n",
       "      <th>7</th>\n",
       "      <td>East</td>\n",
       "      <td>Ethan Allen Express</td>\n",
       "      <td>2</td>\n",
       "      <td>8</td>\n",
       "    </tr>\n",
       "    <tr>\n",
       "      <th>8</th>\n",
       "      <td>East</td>\n",
       "      <td>Auto Train</td>\n",
       "      <td>2</td>\n",
       "      <td>9</td>\n",
       "    </tr>\n",
       "    <tr>\n",
       "      <th>9</th>\n",
       "      <td>East</td>\n",
       "      <td>Silver Meteor</td>\n",
       "      <td>2</td>\n",
       "      <td>10</td>\n",
       "    </tr>\n",
       "    <tr>\n",
       "      <th>10</th>\n",
       "      <td>East</td>\n",
       "      <td>Silver Star</td>\n",
       "      <td>2</td>\n",
       "      <td>11</td>\n",
       "    </tr>\n",
       "    <tr>\n",
       "      <th>11</th>\n",
       "      <td>East</td>\n",
       "      <td>Palmetto</td>\n",
       "      <td>2</td>\n",
       "      <td>12</td>\n",
       "    </tr>\n",
       "    <tr>\n",
       "      <th>12</th>\n",
       "      <td>East</td>\n",
       "      <td>Carolinian</td>\n",
       "      <td>2</td>\n",
       "      <td>13</td>\n",
       "    </tr>\n",
       "    <tr>\n",
       "      <th>13</th>\n",
       "      <td>East</td>\n",
       "      <td>Piedmont</td>\n",
       "      <td>2</td>\n",
       "      <td>14</td>\n",
       "    </tr>\n",
       "    <tr>\n",
       "      <th>14</th>\n",
       "      <td>East</td>\n",
       "      <td>Crescent</td>\n",
       "      <td>2</td>\n",
       "      <td>15</td>\n",
       "    </tr>\n",
       "    <tr>\n",
       "      <th>15</th>\n",
       "      <td>East</td>\n",
       "      <td>Pennsylvanian</td>\n",
       "      <td>2</td>\n",
       "      <td>16</td>\n",
       "    </tr>\n",
       "    <tr>\n",
       "      <th>16</th>\n",
       "      <td>East</td>\n",
       "      <td>Cardinal</td>\n",
       "      <td>2</td>\n",
       "      <td>17</td>\n",
       "    </tr>\n",
       "    <tr>\n",
       "      <th>17</th>\n",
       "      <td>East</td>\n",
       "      <td>Hoosier State</td>\n",
       "      <td>2</td>\n",
       "      <td>18</td>\n",
       "    </tr>\n",
       "    <tr>\n",
       "      <th>18</th>\n",
       "      <td>East</td>\n",
       "      <td>Capitol Limited</td>\n",
       "      <td>2</td>\n",
       "      <td>19</td>\n",
       "    </tr>\n",
       "    <tr>\n",
       "      <th>19</th>\n",
       "      <td>East</td>\n",
       "      <td>Lake Shore Limited</td>\n",
       "      <td>2</td>\n",
       "      <td>20</td>\n",
       "    </tr>\n",
       "    <tr>\n",
       "      <th>20</th>\n",
       "      <td>Midwest</td>\n",
       "      <td>Wolverine</td>\n",
       "      <td>3</td>\n",
       "      <td>21</td>\n",
       "    </tr>\n",
       "    <tr>\n",
       "      <th>21</th>\n",
       "      <td>Midwest</td>\n",
       "      <td>Blue Water</td>\n",
       "      <td>3</td>\n",
       "      <td>22</td>\n",
       "    </tr>\n",
       "    <tr>\n",
       "      <th>22</th>\n",
       "      <td>Midwest</td>\n",
       "      <td>Pere Marquette</td>\n",
       "      <td>3</td>\n",
       "      <td>23</td>\n",
       "    </tr>\n",
       "    <tr>\n",
       "      <th>23</th>\n",
       "      <td>Midwest</td>\n",
       "      <td>City Of New Orleans</td>\n",
       "      <td>3</td>\n",
       "      <td>24</td>\n",
       "    </tr>\n",
       "    <tr>\n",
       "      <th>24</th>\n",
       "      <td>Midwest</td>\n",
       "      <td>Illini</td>\n",
       "      <td>3</td>\n",
       "      <td>25</td>\n",
       "    </tr>\n",
       "    <tr>\n",
       "      <th>25</th>\n",
       "      <td>Midwest</td>\n",
       "      <td>Saluki</td>\n",
       "      <td>3</td>\n",
       "      <td>26</td>\n",
       "    </tr>\n",
       "    <tr>\n",
       "      <th>26</th>\n",
       "      <td>Midwest</td>\n",
       "      <td>Illinois Zephyr</td>\n",
       "      <td>3</td>\n",
       "      <td>27</td>\n",
       "    </tr>\n",
       "    <tr>\n",
       "      <th>27</th>\n",
       "      <td>Midwest</td>\n",
       "      <td>Carl Sandburg</td>\n",
       "      <td>3</td>\n",
       "      <td>28</td>\n",
       "    </tr>\n",
       "    <tr>\n",
       "      <th>28</th>\n",
       "      <td>Midwest</td>\n",
       "      <td>Hiawatha Service</td>\n",
       "      <td>3</td>\n",
       "      <td>29</td>\n",
       "    </tr>\n",
       "    <tr>\n",
       "      <th>29</th>\n",
       "      <td>Midwest</td>\n",
       "      <td>Lincoln Service</td>\n",
       "      <td>3</td>\n",
       "      <td>30</td>\n",
       "    </tr>\n",
       "    <tr>\n",
       "      <th>30</th>\n",
       "      <td>Midwest</td>\n",
       "      <td>Missouri River Runner</td>\n",
       "      <td>3</td>\n",
       "      <td>31</td>\n",
       "    </tr>\n",
       "    <tr>\n",
       "      <th>31</th>\n",
       "      <td>West</td>\n",
       "      <td>Empire Builder</td>\n",
       "      <td>4</td>\n",
       "      <td>32</td>\n",
       "    </tr>\n",
       "    <tr>\n",
       "      <th>32</th>\n",
       "      <td>West</td>\n",
       "      <td>California Zephyr</td>\n",
       "      <td>4</td>\n",
       "      <td>33</td>\n",
       "    </tr>\n",
       "    <tr>\n",
       "      <th>33</th>\n",
       "      <td>West</td>\n",
       "      <td>Southwest Chief</td>\n",
       "      <td>4</td>\n",
       "      <td>34</td>\n",
       "    </tr>\n",
       "    <tr>\n",
       "      <th>34</th>\n",
       "      <td>West</td>\n",
       "      <td>Texas Eagle</td>\n",
       "      <td>4</td>\n",
       "      <td>35</td>\n",
       "    </tr>\n",
       "    <tr>\n",
       "      <th>35</th>\n",
       "      <td>West</td>\n",
       "      <td>Heartland Flyer</td>\n",
       "      <td>4</td>\n",
       "      <td>36</td>\n",
       "    </tr>\n",
       "    <tr>\n",
       "      <th>36</th>\n",
       "      <td>West</td>\n",
       "      <td>Coast Starlight</td>\n",
       "      <td>4</td>\n",
       "      <td>37</td>\n",
       "    </tr>\n",
       "    <tr>\n",
       "      <th>37</th>\n",
       "      <td>California Corridor</td>\n",
       "      <td>San Joaquin</td>\n",
       "      <td>5</td>\n",
       "      <td>38</td>\n",
       "    </tr>\n",
       "    <tr>\n",
       "      <th>38</th>\n",
       "      <td>California Corridor</td>\n",
       "      <td>Capitol Corridor</td>\n",
       "      <td>5</td>\n",
       "      <td>39</td>\n",
       "    </tr>\n",
       "    <tr>\n",
       "      <th>39</th>\n",
       "      <td>California Corridor</td>\n",
       "      <td>Pacific Surfliner</td>\n",
       "      <td>5</td>\n",
       "      <td>40</td>\n",
       "    </tr>\n",
       "    <tr>\n",
       "      <th>40</th>\n",
       "      <td>Other</td>\n",
       "      <td>Shuttle</td>\n",
       "      <td>6</td>\n",
       "      <td>41</td>\n",
       "    </tr>\n",
       "  </tbody>\n",
       "</table>\n",
       "</div>"
      ],
      "text/plain": [
       "                 Region                  Train  RegionNumber  TrainNumber\n",
       "0    Northeast Corridor          Acela Express             1            1\n",
       "1    Northeast Corridor     Northeast Regional             1            2\n",
       "2    Northeast Corridor             Downeaster             1            3\n",
       "3    Northeast Corridor       Keystone Service             1            4\n",
       "4    Northeast Corridor         Empire Service             1            5\n",
       "5                  East             Adirondack             2            6\n",
       "6                  East              Vermonter             2            7\n",
       "7                  East    Ethan Allen Express             2            8\n",
       "8                  East             Auto Train             2            9\n",
       "9                  East          Silver Meteor             2           10\n",
       "10                 East            Silver Star             2           11\n",
       "11                 East               Palmetto             2           12\n",
       "12                 East             Carolinian             2           13\n",
       "13                 East               Piedmont             2           14\n",
       "14                 East               Crescent             2           15\n",
       "15                 East          Pennsylvanian             2           16\n",
       "16                 East               Cardinal             2           17\n",
       "17                 East          Hoosier State             2           18\n",
       "18                 East        Capitol Limited             2           19\n",
       "19                 East     Lake Shore Limited             2           20\n",
       "20              Midwest              Wolverine             3           21\n",
       "21              Midwest             Blue Water             3           22\n",
       "22              Midwest         Pere Marquette             3           23\n",
       "23              Midwest    City Of New Orleans             3           24\n",
       "24              Midwest                 Illini             3           25\n",
       "25              Midwest                 Saluki             3           26\n",
       "26              Midwest        Illinois Zephyr             3           27\n",
       "27              Midwest          Carl Sandburg             3           28\n",
       "28              Midwest       Hiawatha Service             3           29\n",
       "29              Midwest        Lincoln Service             3           30\n",
       "30              Midwest  Missouri River Runner             3           31\n",
       "31                 West         Empire Builder             4           32\n",
       "32                 West      California Zephyr             4           33\n",
       "33                 West        Southwest Chief             4           34\n",
       "34                 West            Texas Eagle             4           35\n",
       "35                 West        Heartland Flyer             4           36\n",
       "36                 West        Coast Starlight             4           37\n",
       "37  California Corridor            San Joaquin             5           38\n",
       "38  California Corridor       Capitol Corridor             5           39\n",
       "39  California Corridor      Pacific Surfliner             5           40\n",
       "40                Other                Shuttle             6           41"
      ]
     },
     "execution_count": 71,
     "metadata": {},
     "output_type": "execute_result"
    }
   ],
   "source": [
    "colors = pd.read_csv('amtrak/colors.csv')\n",
    "colors"
   ]
  },
  {
   "cell_type": "markdown",
   "metadata": {},
   "source": [
    "Join data to color scheme, matching on train name"
   ]
  },
  {
   "cell_type": "code",
   "execution_count": 74,
   "metadata": {
    "collapsed": false
   },
   "outputs": [
    {
     "data": {
      "text/html": [
       "<div>\n",
       "<table border=\"1\" class=\"dataframe\">\n",
       "  <thead>\n",
       "    <tr style=\"text-align: right;\">\n",
       "      <th></th>\n",
       "      <th>starttime</th>\n",
       "      <th>stoptime</th>\n",
       "      <th>tripduration</th>\n",
       "      <th>start station id</th>\n",
       "      <th>start station name</th>\n",
       "      <th>start station latitude</th>\n",
       "      <th>start station longitude</th>\n",
       "      <th>end station id</th>\n",
       "      <th>end station name</th>\n",
       "      <th>end station latitude</th>\n",
       "      <th>end station longitude</th>\n",
       "      <th>route_id</th>\n",
       "      <th>direction</th>\n",
       "      <th>trainName</th>\n",
       "      <th>trainNumber</th>\n",
       "      <th>Region</th>\n",
       "      <th>Train</th>\n",
       "      <th>RegionNumber</th>\n",
       "      <th>TrainNumber</th>\n",
       "    </tr>\n",
       "  </thead>\n",
       "  <tbody>\n",
       "    <tr>\n",
       "      <th>0</th>\n",
       "      <td>2016-01-04 06:00:00</td>\n",
       "      <td>2016-01-04 06:21:00</td>\n",
       "      <td>1260</td>\n",
       "      <td>WAS</td>\n",
       "      <td>Washington Union Station</td>\n",
       "      <td>38.896993</td>\n",
       "      <td>-77.006422</td>\n",
       "      <td>BWI</td>\n",
       "      <td>BWI Marshall Airport Amtrak</td>\n",
       "      <td>39.192362</td>\n",
       "      <td>-76.694300</td>\n",
       "      <td>1</td>\n",
       "      <td>0</td>\n",
       "      <td>Acela Express</td>\n",
       "      <td>2100</td>\n",
       "      <td>Northeast Corridor</td>\n",
       "      <td>Acela Express</td>\n",
       "      <td>1</td>\n",
       "      <td>1</td>\n",
       "    </tr>\n",
       "    <tr>\n",
       "      <th>1</th>\n",
       "      <td>2016-01-04 06:21:00</td>\n",
       "      <td>2016-01-04 06:32:00</td>\n",
       "      <td>660</td>\n",
       "      <td>BWI</td>\n",
       "      <td>BWI Marshall Airport Amtrak</td>\n",
       "      <td>39.192362</td>\n",
       "      <td>-76.694300</td>\n",
       "      <td>BAL</td>\n",
       "      <td>Baltimore Penn Station</td>\n",
       "      <td>39.307302</td>\n",
       "      <td>-76.615688</td>\n",
       "      <td>1</td>\n",
       "      <td>0</td>\n",
       "      <td>Acela Express</td>\n",
       "      <td>2100</td>\n",
       "      <td>Northeast Corridor</td>\n",
       "      <td>Acela Express</td>\n",
       "      <td>1</td>\n",
       "      <td>1</td>\n",
       "    </tr>\n",
       "    <tr>\n",
       "      <th>2</th>\n",
       "      <td>2016-01-04 06:34:00</td>\n",
       "      <td>2016-01-04 07:16:00</td>\n",
       "      <td>2520</td>\n",
       "      <td>BAL</td>\n",
       "      <td>Baltimore Penn Station</td>\n",
       "      <td>39.307302</td>\n",
       "      <td>-76.615688</td>\n",
       "      <td>WIL</td>\n",
       "      <td>Wilmington Amtrak</td>\n",
       "      <td>39.737263</td>\n",
       "      <td>-75.551095</td>\n",
       "      <td>1</td>\n",
       "      <td>0</td>\n",
       "      <td>Acela Express</td>\n",
       "      <td>2100</td>\n",
       "      <td>Northeast Corridor</td>\n",
       "      <td>Acela Express</td>\n",
       "      <td>1</td>\n",
       "      <td>1</td>\n",
       "    </tr>\n",
       "    <tr>\n",
       "      <th>3</th>\n",
       "      <td>2016-01-04 07:16:00</td>\n",
       "      <td>2016-01-04 07:33:00</td>\n",
       "      <td>1020</td>\n",
       "      <td>WIL</td>\n",
       "      <td>Wilmington Amtrak</td>\n",
       "      <td>39.737263</td>\n",
       "      <td>-75.551095</td>\n",
       "      <td>PHL</td>\n",
       "      <td>Philadelphia 30th Street Station</td>\n",
       "      <td>39.955615</td>\n",
       "      <td>-75.181041</td>\n",
       "      <td>1</td>\n",
       "      <td>0</td>\n",
       "      <td>Acela Express</td>\n",
       "      <td>2100</td>\n",
       "      <td>Northeast Corridor</td>\n",
       "      <td>Acela Express</td>\n",
       "      <td>1</td>\n",
       "      <td>1</td>\n",
       "    </tr>\n",
       "    <tr>\n",
       "      <th>4</th>\n",
       "      <td>2016-01-04 07:35:00</td>\n",
       "      <td>2016-01-04 08:29:00</td>\n",
       "      <td>3240</td>\n",
       "      <td>PHL</td>\n",
       "      <td>Philadelphia 30th Street Station</td>\n",
       "      <td>39.955615</td>\n",
       "      <td>-75.181041</td>\n",
       "      <td>NWK</td>\n",
       "      <td>Newark Penn Station</td>\n",
       "      <td>40.734706</td>\n",
       "      <td>-74.164750</td>\n",
       "      <td>1</td>\n",
       "      <td>0</td>\n",
       "      <td>Acela Express</td>\n",
       "      <td>2100</td>\n",
       "      <td>Northeast Corridor</td>\n",
       "      <td>Acela Express</td>\n",
       "      <td>1</td>\n",
       "      <td>1</td>\n",
       "    </tr>\n",
       "  </tbody>\n",
       "</table>\n",
       "</div>"
      ],
      "text/plain": [
       "            starttime            stoptime  tripduration start station id  \\\n",
       "0 2016-01-04 06:00:00 2016-01-04 06:21:00          1260              WAS   \n",
       "1 2016-01-04 06:21:00 2016-01-04 06:32:00           660              BWI   \n",
       "2 2016-01-04 06:34:00 2016-01-04 07:16:00          2520              BAL   \n",
       "3 2016-01-04 07:16:00 2016-01-04 07:33:00          1020              WIL   \n",
       "4 2016-01-04 07:35:00 2016-01-04 08:29:00          3240              PHL   \n",
       "\n",
       "                 start station name  start station latitude  \\\n",
       "0          Washington Union Station               38.896993   \n",
       "1       BWI Marshall Airport Amtrak               39.192362   \n",
       "2            Baltimore Penn Station               39.307302   \n",
       "3                 Wilmington Amtrak               39.737263   \n",
       "4  Philadelphia 30th Street Station               39.955615   \n",
       "\n",
       "   start station longitude end station id                  end station name  \\\n",
       "0               -77.006422            BWI       BWI Marshall Airport Amtrak   \n",
       "1               -76.694300            BAL            Baltimore Penn Station   \n",
       "2               -76.615688            WIL                 Wilmington Amtrak   \n",
       "3               -75.551095            PHL  Philadelphia 30th Street Station   \n",
       "4               -75.181041            NWK               Newark Penn Station   \n",
       "\n",
       "   end station latitude  end station longitude  route_id  direction  \\\n",
       "0             39.192362             -76.694300         1          0   \n",
       "1             39.307302             -76.615688         1          0   \n",
       "2             39.737263             -75.551095         1          0   \n",
       "3             39.955615             -75.181041         1          0   \n",
       "4             40.734706             -74.164750         1          0   \n",
       "\n",
       "       trainName  trainNumber              Region          Train  \\\n",
       "0  Acela Express         2100  Northeast Corridor  Acela Express   \n",
       "1  Acela Express         2100  Northeast Corridor  Acela Express   \n",
       "2  Acela Express         2100  Northeast Corridor  Acela Express   \n",
       "3  Acela Express         2100  Northeast Corridor  Acela Express   \n",
       "4  Acela Express         2100  Northeast Corridor  Acela Express   \n",
       "\n",
       "   RegionNumber  TrainNumber  \n",
       "0             1            1  \n",
       "1             1            1  \n",
       "2             1            1  \n",
       "3             1            1  \n",
       "4             1            1  "
      ]
     },
     "execution_count": 74,
     "metadata": {},
     "output_type": "execute_result"
    }
   ],
   "source": [
    "data_colors = pd.merge(data, colors, left_on='trainName', right_on='Train')\n",
    "data_colors.head()"
   ]
  },
  {
   "cell_type": "markdown",
   "metadata": {},
   "source": [
    "Save to csv"
   ]
  },
  {
   "cell_type": "code",
   "execution_count": 76,
   "metadata": {
    "collapsed": true
   },
   "outputs": [],
   "source": [
    "data_colors.to_csv(\"amtrak/legsconcat3.csv\")"
   ]
  },
  {
   "cell_type": "code",
   "execution_count": null,
   "metadata": {
    "collapsed": true
   },
   "outputs": [],
   "source": []
  }
 ],
 "metadata": {
  "anaconda-cloud": {},
  "kernelspec": {
   "display_name": "Python [Root]",
   "language": "python",
   "name": "Python [Root]"
  },
  "language_info": {
   "codemirror_mode": {
    "name": "ipython",
    "version": 2
   },
   "file_extension": ".py",
   "mimetype": "text/x-python",
   "name": "python",
   "nbconvert_exporter": "python",
   "pygments_lexer": "ipython2",
   "version": "2.7.12"
  }
 },
 "nbformat": 4,
 "nbformat_minor": 0
}
